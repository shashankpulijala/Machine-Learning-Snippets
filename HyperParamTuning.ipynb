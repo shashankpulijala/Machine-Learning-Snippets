{
 "cells": [
  {
   "cell_type": "code",
   "execution_count": 1,
   "metadata": {},
   "outputs": [],
   "source": [
    "import re\n",
    "import pickle\n",
    "import time\n",
    "import joblib\n",
    "import os\n",
    "import pandas as pd\n",
    "import numpy as np\n",
    "from sklearn.model_selection import *\n",
    "from sklearn.metrics import *\n",
    "from sklearn.ensemble import *\n",
    "from sklearn.datasets import load_iris, load_breast_cancer\n",
    "from lightgbm import LGBMClassifier\n"
   ]
  },
  {
   "cell_type": "code",
   "execution_count": 2,
   "metadata": {},
   "outputs": [],
   "source": [
    "X, y = load_breast_cancer(return_X_y=True)"
   ]
  },
  {
   "cell_type": "code",
   "execution_count": 3,
   "metadata": {},
   "outputs": [
    {
     "data": {
      "text/plain": [
       "(569, 30)"
      ]
     },
     "execution_count": 3,
     "metadata": {},
     "output_type": "execute_result"
    }
   ],
   "source": [
    "X.shape"
   ]
  },
  {
   "cell_type": "code",
   "execution_count": 4,
   "metadata": {},
   "outputs": [
    {
     "data": {
      "text/plain": [
       "(569,)"
      ]
     },
     "execution_count": 4,
     "metadata": {},
     "output_type": "execute_result"
    }
   ],
   "source": [
    "y.shape"
   ]
  },
  {
   "cell_type": "code",
   "execution_count": 5,
   "metadata": {},
   "outputs": [],
   "source": [
    "\n",
    "def build_model(X, y, model, save=False) :\n",
    "    \"\"\"Splits data into train and unseen data, \n",
    "    builds given model and trains on train data and predicts on validation data\n",
    "    \n",
    "    Parameters : \n",
    "    X : A Pandas DataFrame or a numpy array which has the predictors\n",
    "    y : A Pandas Series or a numpy array which is the target class\n",
    "    model : sklearn class already defined\n",
    "    save : A boolean parameter to whether save a model or not\n",
    "        Default = False\n",
    "    Returns :\n",
    "    Trained Model\n",
    "    \"\"\"\n",
    "    \n",
    "    start_time = time.clock()\n",
    "    print(\"Splitting the data\")\n",
    "    X_train, X_val, y_train, y_val = train_test_split(X, y, test_size=0.25, random_state=64, stratify=y)\n",
    "    print(\"shapes of the data after splitting\")\n",
    "    print(X_train.shape, X_val.shape, y_train.shape, y_val.shape)\n",
    "    print(\"Training\")\n",
    "    model.fit(X_train, y_train)\n",
    "    pred_train = model.predict(X_train)\n",
    "    pred_val = model.predict(X_val)\n",
    "    print(\"Training accuracy: \", accuracy_score(y_train, pred_train))\n",
    "    print(\"Validation accuracy: \", accuracy_score(y_val, pred_val))\n",
    "    print(\"------------------------\")\n",
    "    print(\"Training f1: \", f1_score(y_train, pred_train))\n",
    "    print(\"Validation f1: \", f1_score(y_val, pred_val))\n",
    "    print(\"------------------------\")\n",
    "    print(\"Training Recall\", recall_score(y_train, pred_train))\n",
    "    print(\"Validation Recall\", recall_score(y_val, pred_val))\n",
    "    print(\"-------------------------\")\n",
    "    print(\"Training Precision\", precision_score(y_train, pred_train))\n",
    "    print(\"Validation Precision\", precision_score(y_val, pred_val))\n",
    "    if save == True :\n",
    "        joblib.dump(model+\".joblib\")\n",
    "    print(\"Finished building model in \" + str(round((time.clock()-start_time)/60, 2)) + \" minutes\")\n",
    "    return model\n",
    "\n",
    "def hyperparam_tuning(X_, y_, clf, params, search, k=5, scoring = 'f1', save=False, lgbm=False, feat_imp=False, \n",
    "                     n_imp = 25, feat_imp_model = 'same') :\n",
    "    \"\"\"Splits data into train and unseen data, \n",
    "    Performs HyperParameter Tuning search for the given model  \n",
    "    \n",
    "    Parameters : \n",
    "    X_ : A Pandas DataFrame or a numpy array which has the predictors\n",
    "    y_ : A Pandas Series or a numpy array which is the target class\n",
    "    params : A dictionary with keys as parameters of model and values as list of different values that can be given\n",
    "    search : String object. If 'grid', performs GridSearchCV, else RandomSearchCV\n",
    "    k : int number, how many times cross validation should be performed.\n",
    "    scoring : str which says which score to optimize for\n",
    "    save : A boolean which asks whether to save the model. Default = False\n",
    "    lgbm : A boolean which asks whether model is LGBM. Default = False\n",
    "    feat_imp : A boolean which asks whether to take feature importance of th model to be taken\n",
    "    n_imp : int, Number of features taken for feat imp\n",
    "    feat_imp_model : A boolean whether to decide whether the model after feature importance should be the same or new\n",
    "\n",
    "    Returns :\n",
    "    Trained Model\n",
    "    \"\"\"\n",
    "    start_time = time.clock()\n",
    "    kfold = StratifiedKFold(n_splits=k, shuffle=True, random_state=64)\n",
    "    if lgbm == True :\n",
    "        if type(X_) == pd.DataFrame :\n",
    "            X_ = X_.rename(columns = lambda x:re.sub('[^A-Za-z0-9_]+', '', x))\n",
    "        #X_tr_lgbm, X_val_lgbm, y_tr_lgbm, y_val_lgbm = train_test_split(X_lgbm, y, test_size=0.25, random_state=64, stratify = y)\n",
    "    if search == 'grid' :\n",
    "        grid_search = GridSearchCV(clf, params,scoring=scoring, cv=kfold)\n",
    "    else :\n",
    "        grid_search = RandomizedSearchCV(clf, params,scoring='f1', cv=kfold)\n",
    "    print(\"Starting Grid Search\")\n",
    "    print(\"---------------------\")\n",
    "    grid_result = grid_search.fit(X_, y_)\n",
    "    print(\"Finished Grid Search in \" + str(round((time.clock()-start_time)/60, 2)) + \" minutes\")\n",
    "    print(\"---------------------\")\n",
    "    print(\"Best Model :\")\n",
    "    print(\"---------------------\")\n",
    "    print(grid_result.best_estimator_)\n",
    "    print(\"Best Score :\", grid_result.best_score_)\n",
    "    best_clf = grid_result.best_estimator_\n",
    "    print(\"---------------------\")\n",
    "    print(\"Training and Validating with Best model\")\n",
    "    print(\"---------------------\")\n",
    "    model_ = build_model(X_, y_, model=best_clf)\n",
    "    if feat_imp == True :\n",
    "        feat_imp, top_n_feats = get_top_n_features(model_, X_, n_imp)\n",
    "        X_n_feats = X[top_n_feats]\n",
    "        if feat_imp_model != 'same' :\n",
    "            model_ = feat_imp_model\n",
    "        model_n_feats = build_model(X_n_feats, y, model_, save)\n",
    "        return model_n_feats\n",
    "    else :\n",
    "        return model_"
   ]
  },
  {
   "cell_type": "code",
   "execution_count": 6,
   "metadata": {},
   "outputs": [
    {
     "name": "stderr",
     "output_type": "stream",
     "text": [
      "C:\\Users\\spulijala2\\AppData\\Local\\Continuum\\anaconda3\\lib\\site-packages\\ipykernel_launcher.py:61: DeprecationWarning: time.clock has been deprecated in Python 3.3 and will be removed from Python 3.8: use time.perf_counter or time.process_time instead\n"
     ]
    },
    {
     "name": "stdout",
     "output_type": "stream",
     "text": [
      "Starting Grid Search\n",
      "---------------------\n"
     ]
    },
    {
     "name": "stderr",
     "output_type": "stream",
     "text": [
      "C:\\Users\\spulijala2\\AppData\\Local\\Continuum\\anaconda3\\lib\\site-packages\\ipykernel_launcher.py:74: DeprecationWarning: time.clock has been deprecated in Python 3.3 and will be removed from Python 3.8: use time.perf_counter or time.process_time instead\n",
      "C:\\Users\\spulijala2\\AppData\\Local\\Continuum\\anaconda3\\lib\\site-packages\\ipykernel_launcher.py:15: DeprecationWarning: time.clock has been deprecated in Python 3.3 and will be removed from Python 3.8: use time.perf_counter or time.process_time instead\n",
      "  from ipykernel import kernelapp as app\n"
     ]
    },
    {
     "name": "stdout",
     "output_type": "stream",
     "text": [
      "Finished Grid Search in 0.24 minutes\n",
      "---------------------\n",
      "Best Model :\n",
      "---------------------\n",
      "RandomForestClassifier(bootstrap=True, ccp_alpha=0.0, class_weight='balanced',\n",
      "                       criterion='gini', max_depth=10, max_features='auto',\n",
      "                       max_leaf_nodes=None, max_samples=None,\n",
      "                       min_impurity_decrease=0.0, min_impurity_split=None,\n",
      "                       min_samples_leaf=1, min_samples_split=2,\n",
      "                       min_weight_fraction_leaf=0.0, n_estimators=100,\n",
      "                       n_jobs=None, oob_score=False, random_state=64, verbose=0,\n",
      "                       warm_start=False)\n",
      "Best Score : 0.9708588589851604\n",
      "---------------------\n",
      "Training and Validating with Best model\n",
      "---------------------\n",
      "Splitting the data\n",
      "shapes of the data after splitting\n",
      "(426, 30) (143, 30) (426,) (143,)\n",
      "Training\n",
      "Training accuracy:  1.0\n",
      "Validation accuracy:  0.965034965034965\n",
      "------------------------\n",
      "Training f1:  1.0\n",
      "Validation f1:  0.9726775956284154\n",
      "------------------------\n",
      "Training Recall 1.0\n",
      "Validation Recall 0.9888888888888889\n",
      "-------------------------\n",
      "Training Precision 1.0\n",
      "Validation Precision 0.956989247311828\n",
      "Finished building model in 0.0 minutes\n"
     ]
    },
    {
     "name": "stderr",
     "output_type": "stream",
     "text": [
      "C:\\Users\\spulijala2\\AppData\\Local\\Continuum\\anaconda3\\lib\\site-packages\\ipykernel_launcher.py:37: DeprecationWarning: time.clock has been deprecated in Python 3.3 and will be removed from Python 3.8: use time.perf_counter or time.process_time instead\n"
     ]
    }
   ],
   "source": [
    "params = {'max_depth' : [2, 3, 5, 6, 10], \n",
    "          'n_estimators' : [10, 20, 50, 100, 300, 500]}\n",
    "clf = RandomForestClassifier(class_weight='balanced', random_state=64)\n",
    "rf_best = hyperparam_tuning(X, y, clf, params, 'random', scoring='f1', lgbm = False)"
   ]
  },
  {
   "cell_type": "code",
   "execution_count": null,
   "metadata": {},
   "outputs": [],
   "source": []
  }
 ],
 "metadata": {
  "kernelspec": {
   "display_name": "Python 3",
   "language": "python",
   "name": "python3"
  },
  "language_info": {
   "codemirror_mode": {
    "name": "ipython",
    "version": 3
   },
   "file_extension": ".py",
   "mimetype": "text/x-python",
   "name": "python",
   "nbconvert_exporter": "python",
   "pygments_lexer": "ipython3",
   "version": "3.7.3"
  }
 },
 "nbformat": 4,
 "nbformat_minor": 4
}
